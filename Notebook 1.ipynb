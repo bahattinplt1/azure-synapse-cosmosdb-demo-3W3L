{
  "cells": [
    {
      "cell_type": "code",
      "source": [
        "# Read from Cosmos DB analytical store into a Spark DataFrame and display 10 rows from the DataFrame\n",
        "# To select a preferred list of regions in a multi-region Cosmos DB account, add .option(\"spark.cosmos.preferredRegions\", \"<Region1>,<Region2>\")\n",
        "\n",
        "df = spark.read\\\n",
        "    .format(\"cosmos.olap\")\\\n",
        "    .option(\"spark.synapse.linkedService\", \"AdventureWorks\")\\\n",
        "    .option(\"spark.cosmos.container\", \"Sales\")\\\n",
        "    .load()\n",
        "\n",
        "display(df.limit(10))"
      ],
      "outputs": [
        {
          "output_type": "display_data",
          "data": {
            "application/vnd.livy.statement-meta+json": {
              "spark_pool": "sparkexshfzv",
              "statement_id": 10,
              "statement_ids": [
                10
              ],
              "state": "finished",
              "livy_statement_state": "available",
              "spark_jobs": null,
              "session_id": "0",
              "normalized_state": "finished",
              "queued_time": "2025-04-17T11:30:15.8480536Z",
              "session_start_time": null,
              "execution_start_time": "2025-04-17T11:30:15.850021Z",
              "execution_finish_time": "2025-04-17T11:30:18.7668865Z",
              "parent_msg_id": "d06d2633-f8a2-4e64-8181-9eb0e3660f5e"
            },
            "text/plain": "StatementMeta(sparkexshfzv, 0, 10, Finished, Available, Finished)"
          },
          "metadata": {}
        },
        {
          "output_type": "display_data",
          "data": {
            "application/vnd.synapse.widget-view+json": {
              "widget_id": "b04127a8-5b8c-4340-ba31-fdb249e9b070",
              "widget_type": "Synapse.DataFrame"
            },
            "text/plain": "SynapseWidget(Synapse.DataFrame, b04127a8-5b8c-4340-ba31-fdb249e9b070)"
          },
          "metadata": {}
        }
      ],
      "execution_count": 6,
      "metadata": {
        "collapsed": false
      }
    },
    {
      "cell_type": "code",
      "source": [
        "customer_df = df.select(\"customerid\", \"customerdetails\")\n",
        "display(customer_df)\n"
      ],
      "outputs": [
        {
          "output_type": "display_data",
          "data": {
            "application/vnd.livy.statement-meta+json": {
              "spark_pool": "sparkexshfzv",
              "statement_id": 11,
              "statement_ids": [
                11
              ],
              "state": "finished",
              "livy_statement_state": "available",
              "spark_jobs": null,
              "session_id": "0",
              "normalized_state": "finished",
              "queued_time": "2025-04-17T11:30:15.8876932Z",
              "session_start_time": null,
              "execution_start_time": "2025-04-17T11:30:18.7805911Z",
              "execution_finish_time": "2025-04-17T11:30:20.0955393Z",
              "parent_msg_id": "e88721c0-ce03-4e52-9caf-03fc3948850e"
            },
            "text/plain": "StatementMeta(sparkexshfzv, 0, 11, Finished, Available, Finished)"
          },
          "metadata": {}
        },
        {
          "output_type": "display_data",
          "data": {
            "application/vnd.synapse.widget-view+json": {
              "widget_id": "97849321-be52-4459-8f62-6ed4431f6f85",
              "widget_type": "Synapse.DataFrame"
            },
            "text/plain": "SynapseWidget(Synapse.DataFrame, 97849321-be52-4459-8f62-6ed4431f6f85)"
          },
          "metadata": {}
        }
      ],
      "execution_count": 7,
      "metadata": {
        "collapsed": false
      }
    },
    {
      "cell_type": "code",
      "source": [
        "customerdetails_df = df.select(\"customerid\", \"customerdetails.*\")\n",
        "display(customerdetails_df)\n"
      ],
      "outputs": [
        {
          "output_type": "display_data",
          "data": {
            "application/vnd.livy.statement-meta+json": {
              "spark_pool": "sparkexshfzv",
              "statement_id": 12,
              "statement_ids": [
                12
              ],
              "state": "finished",
              "livy_statement_state": "available",
              "spark_jobs": null,
              "session_id": "0",
              "normalized_state": "finished",
              "queued_time": "2025-04-17T11:30:15.9390391Z",
              "session_start_time": null,
              "execution_start_time": "2025-04-17T11:30:20.1122994Z",
              "execution_finish_time": "2025-04-17T11:30:21.2947138Z",
              "parent_msg_id": "9560c45d-4dce-47d7-8dbd-38986ad76cf6"
            },
            "text/plain": "StatementMeta(sparkexshfzv, 0, 12, Finished, Available, Finished)"
          },
          "metadata": {}
        },
        {
          "output_type": "display_data",
          "data": {
            "application/vnd.synapse.widget-view+json": {
              "widget_id": "a6387bf7-5a6a-458e-8c5e-0dd040f2db0a",
              "widget_type": "Synapse.DataFrame"
            },
            "text/plain": "SynapseWidget(Synapse.DataFrame, a6387bf7-5a6a-458e-8c5e-0dd040f2db0a)"
          },
          "metadata": {}
        }
      ],
      "execution_count": 8,
      "metadata": {
        "collapsed": false
      }
    },
    {
      "cell_type": "code",
      "source": [
        "%%sql\n",
        "\n",
        "CREATE DATABASE salesdb;\n",
        "USE salesdb;\n",
        "\n",
        "CREATE TABLE salesorders using cosmos.olap options (\n",
        "    spark.synapse.linkedService 'AdventureWorks',\n",
        "    spark.cosmos.container 'Sales'\n",
        ");\n",
        "\n",
        "SELECT *\n",
        "FROM salesorders;\n"
      ],
      "outputs": [
        {
          "output_type": "display_data",
          "data": {
            "application/vnd.livy.statement-meta+json": {
              "spark_pool": null,
              "statement_id": 14,
              "statement_ids": [
                14
              ],
              "state": "finished",
              "livy_statement_state": null,
              "spark_jobs": null,
              "session_id": "0",
              "normalized_state": "finished",
              "queued_time": "2025-04-17T11:30:55.4214504Z",
              "session_start_time": null,
              "execution_start_time": null,
              "execution_finish_time": "2025-04-17T11:30:56.0440144Z",
              "parent_msg_id": "ce820fd9-137b-446b-bd02-dbb6d6957313"
            },
            "text/plain": "StatementMeta(, 0, 14, Finished, , Finished)"
          },
          "metadata": {}
        },
        {
          "output_type": "error",
          "ename": "Error",
          "evalue": "[SCHEMA_ALREADY_EXISTS] Cannot create schema `salesdb` because it already exists.\nChoose a different name, drop the existing schema, or add the IF NOT EXISTS clause to tolerate pre-existing schema.",
          "traceback": [
            "[SCHEMA_ALREADY_EXISTS] Cannot create schema `salesdb` because it already exists.\nChoose a different name, drop the existing schema, or add the IF NOT EXISTS clause to tolerate pre-existing schema.",
            "org.apache.spark.sql.errors.QueryCompilationErrors$.namespaceAlreadyExistsError(QueryCompilationErrors.scala:1278)",
            "org.apache.spark.sql.execution.datasources.v2.CreateNamespaceExec.run(CreateNamespaceExec.scala:53)",
            "org.apache.spark.sql.execution.datasources.v2.V2CommandExec.result$lzycompute(V2CommandExec.scala:43)",
            "org.apache.spark.sql.execution.datasources.v2.V2CommandExec.result(V2CommandExec.scala:43)",
            "org.apache.spark.sql.execution.datasources.v2.V2CommandExec.executeCollect(V2CommandExec.scala:49)",
            "org.apache.spark.sql.execution.QueryExecution$$anonfun$eagerlyExecuteCommands$1.$anonfun$applyOrElse$1(QueryExecution.scala:152)",
            "org.apache.spark.sql.execution.SQLExecution$.$anonfun$withNewExecutionId$5(SQLExecution.scala:125)",
            "org.apache.spark.sql.execution.SQLExecution$.withSQLConfPropagated(SQLExecution.scala:214)",
            "org.apache.spark.sql.execution.SQLExecution$.$anonfun$withNewExecutionId$1(SQLExecution.scala:100)",
            "org.apache.spark.sql.SparkSession.withActive(SparkSession.scala:827)",
            "org.apache.spark.sql.execution.SQLExecution$.withNewExecutionId(SQLExecution.scala:67)",
            "org.apache.spark.sql.execution.QueryExecution$$anonfun$eagerlyExecuteCommands$1.applyOrElse(QueryExecution.scala:152)",
            "org.apache.spark.sql.execution.QueryExecution$$anonfun$eagerlyExecuteCommands$1.applyOrElse(QueryExecution.scala:145)",
            "org.apache.spark.sql.catalyst.trees.TreeNode.$anonfun$transformDownWithPruning$1(TreeNode.scala:512)",
            "org.apache.spark.sql.catalyst.trees.CurrentOrigin$.withOrigin(TreeNode.scala:104)",
            "org.apache.spark.sql.catalyst.trees.TreeNode.transformDownWithPruning(TreeNode.scala:512)",
            "org.apache.spark.sql.catalyst.plans.logical.LogicalPlan.org$apache$spark$sql$catalyst$plans$logical$AnalysisHelper$$super$transformDownWithPruning(LogicalPlan.scala:32)",
            "org.apache.spark.sql.catalyst.plans.logical.AnalysisHelper.transformDownWithPruning(AnalysisHelper.scala:267)",
            "org.apache.spark.sql.catalyst.plans.logical.AnalysisHelper.transformDownWithPruning$(AnalysisHelper.scala:263)",
            "org.apache.spark.sql.catalyst.plans.logical.LogicalPlan.transformDownWithPruning(LogicalPlan.scala:32)",
            "org.apache.spark.sql.catalyst.plans.logical.LogicalPlan.transformDownWithPruning(LogicalPlan.scala:32)",
            "org.apache.spark.sql.catalyst.trees.TreeNode.transformDown(TreeNode.scala:488)",
            "org.apache.spark.sql.execution.QueryExecution.eagerlyExecuteCommands(QueryExecution.scala:145)",
            "org.apache.spark.sql.execution.QueryExecution.commandExecuted$lzycompute(QueryExecution.scala:129)",
            "org.apache.spark.sql.execution.QueryExecution.commandExecuted(QueryExecution.scala:123)",
            "org.apache.spark.sql.Dataset.<init>(Dataset.scala:229)",
            "org.apache.spark.sql.Dataset$.$anonfun$ofRows$2(Dataset.scala:99)",
            "org.apache.spark.sql.SparkSession.withActive(SparkSession.scala:827)",
            "org.apache.spark.sql.Dataset$.ofRows(Dataset.scala:96)",
            "org.apache.spark.sql.SparkSession.$anonfun$sql$1(SparkSession.scala:640)",
            "org.apache.spark.sql.SparkSession.withActive(SparkSession.scala:827)",
            "org.apache.spark.sql.SparkSession.sql(SparkSession.scala:630)",
            "org.apache.spark.sql.SparkSession.sql(SparkSession.scala:671)",
            "org.apache.livy.repl.SQLInterpreter.execute(SQLInterpreter.scala:163)",
            "org.apache.livy.repl.Session.$anonfun$executeCode$1(Session.scala:904)",
            "scala.Option.map(Option.scala:230)",
            "org.apache.livy.repl.Session.executeCode(Session.scala:901)",
            "org.apache.livy.repl.Session.$anonfun$execute$18(Session.scala:593)",
            "org.apache.livy.repl.Session.withRealtimeOutputSupport(Session.scala:1156)",
            "org.apache.livy.repl.Session.$anonfun$execute$3(Session.scala:593)",
            "scala.runtime.java8.JFunction0$mcV$sp.apply(JFunction0$mcV$sp.java:23)",
            "scala.concurrent.Future$.$anonfun$apply$1(Future.scala:659)",
            "scala.util.Success.$anonfun$map$1(Try.scala:255)",
            "scala.util.Success.map(Try.scala:213)",
            "scala.concurrent.Future.$anonfun$map$1(Future.scala:292)",
            "scala.concurrent.impl.Promise.liftedTree1$1(Promise.scala:33)",
            "scala.concurrent.impl.Promise.$anonfun$transform$1(Promise.scala:33)",
            "scala.concurrent.impl.CallbackRunnable.run(Promise.scala:64)",
            "java.base/java.util.concurrent.ThreadPoolExecutor.runWorker(ThreadPoolExecutor.java:1128)",
            "java.base/java.util.concurrent.ThreadPoolExecutor$Worker.run(ThreadPoolExecutor.java:628)",
            "java.base/java.lang.Thread.run(Thread.java:829)"
          ]
        }
      ],
      "execution_count": 10,
      "metadata": {
        "microsoft": {
          "language": "sparksql"
        },
        "collapsed": false
      }
    },
    {
      "cell_type": "code",
      "source": [
        "%%sql\n",
        "\n",
        "SELECT id, orderdate, customerdetails.customername, product\n",
        "FROM salesorders\n",
        "ORDER BY id;\n"
      ],
      "outputs": [
        {
          "output_type": "display_data",
          "data": {
            "application/vnd.livy.statement-meta+json": {
              "spark_pool": "sparkexshfzv",
              "statement_id": 15,
              "statement_ids": [
                15
              ],
              "state": "finished",
              "livy_statement_state": "available",
              "spark_jobs": null,
              "session_id": "0",
              "normalized_state": "finished",
              "queued_time": "2025-04-17T11:31:34.6189026Z",
              "session_start_time": null,
              "execution_start_time": "2025-04-17T11:31:34.6208627Z",
              "execution_finish_time": "2025-04-17T11:31:40.090275Z",
              "parent_msg_id": "31179cce-1f29-4fb2-8895-a10f09cd5990"
            },
            "text/plain": "StatementMeta(sparkexshfzv, 0, 15, Finished, Available, Finished)"
          },
          "metadata": {}
        },
        {
          "output_type": "execute_result",
          "execution_count": 11,
          "data": {
            "application/vnd.synapse.sparksql-result+json": {
              "schema": {
                "type": "struct",
                "fields": [
                  {
                    "name": "id",
                    "type": "string",
                    "nullable": true,
                    "metadata": {}
                  },
                  {
                    "name": "orderdate",
                    "type": "string",
                    "nullable": true,
                    "metadata": {}
                  },
                  {
                    "name": "customername",
                    "type": "string",
                    "nullable": true,
                    "metadata": {}
                  },
                  {
                    "name": "product",
                    "type": "string",
                    "nullable": true,
                    "metadata": {}
                  }
                ]
              },
              "data": [
                [
                  "SO43701",
                  "2019-07-01",
                  "Christy Zhu",
                  "Mountain-100 Silver, 44"
                ],
                [
                  "SO43704",
                  "2019-07-01",
                  "Julio Ruiz",
                  "Mountain-100 Black, 48"
                ],
                [
                  "SO43707",
                  "2019-07-02",
                  "Emma Brown",
                  "Road-150 Red, 48"
                ],
                [
                  "SO43708",
                  "2019-07-02",
                  "Samir Nadoy",
                  "Road-150 Black, 48"
                ]
              ]
            },
            "text/plain": "<Spark SQL result set with 4 rows and 4 fields>"
          },
          "metadata": {}
        }
      ],
      "execution_count": 11,
      "metadata": {
        "microsoft": {
          "language": "sparksql"
        },
        "collapsed": false
      }
    }
  ],
  "metadata": {
    "language_info": {
      "name": "python"
    },
    "kernelspec": {
      "name": "synapse_pyspark",
      "language": "Python",
      "display_name": "Synapse PySpark"
    },
    "kernel_info": {
      "name": "synapse_pyspark"
    },
    "description": null,
    "save_output": true,
    "synapse_widget": {
      "version": "0.1",
      "state": {
        "b04127a8-5b8c-4340-ba31-fdb249e9b070": {
          "type": "Synapse.DataFrame",
          "sync_state": {
            "table": {
              "rows": [
                {
                  "0": "pVUJAJMmUT0BAAAAAAAAAA==",
                  "1": "1744887401",
                  "2": "SO43701",
                  "3": "2019-07-01",
                  "4": "123",
                  "5": {
                    "customername": "Christy Zhu",
                    "customeremail": "christy12@adventure-works.com"
                  },
                  "6": "Mountain-100 Silver, 44",
                  "7": "1",
                  "8": "3399.99",
                  "9": "\"1a003107-0000-4d00-0000-6800de690000\""
                },
                {
                  "0": "pVUJAJMmUT0CAAAAAAAAAA==",
                  "1": "1744887412",
                  "2": "SO43704",
                  "3": "2019-07-01",
                  "4": "124",
                  "5": {
                    "customername": "Julio Ruiz",
                    "customeremail": "julio1@adventure-works.com"
                  },
                  "6": "Mountain-100 Black, 48",
                  "7": "1",
                  "8": "3374.99",
                  "9": "\"1a003307-0000-4d00-0000-6800de740000\""
                },
                {
                  "0": "pVUJAJMmUT0DAAAAAAAAAA==",
                  "1": "1744887438",
                  "2": "SO43707",
                  "3": "2019-07-02",
                  "4": "125",
                  "5": {
                    "customername": "Emma Brown",
                    "customeremail": "emma3@adventure-works.com"
                  },
                  "6": "Road-150 Red, 48",
                  "7": "1",
                  "8": "3578.27",
                  "9": "\"1a003507-0000-4d00-0000-6800de8e0000\""
                },
                {
                  "0": "pVUJAJMmUT0EAAAAAAAAAA==",
                  "1": "1744889268",
                  "2": "SO43708",
                  "3": "2019-07-02",
                  "4": "126",
                  "5": {
                    "customername": "Samir Nadoy",
                    "customeremail": "samir1@adventure-works.com"
                  },
                  "6": "Road-150 Black, 48",
                  "7": "1",
                  "8": "3578.27",
                  "9": "\"1a00a407-0000-4d00-0000-6800e5b40000\""
                }
              ],
              "schema": [
                {
                  "key": "0",
                  "name": "_rid",
                  "type": "string"
                },
                {
                  "key": "1",
                  "name": "_ts",
                  "type": "bigint"
                },
                {
                  "key": "2",
                  "name": "id",
                  "type": "string"
                },
                {
                  "key": "3",
                  "name": "orderdate",
                  "type": "string"
                },
                {
                  "key": "4",
                  "name": "customerid",
                  "type": "bigint"
                },
                {
                  "key": "5",
                  "name": "customerdetails",
                  "type": "StructType(StructField(customername,StringType,true),StructField(customeremail,StringType,true))"
                },
                {
                  "key": "6",
                  "name": "product",
                  "type": "string"
                },
                {
                  "key": "7",
                  "name": "quantity",
                  "type": "bigint"
                },
                {
                  "key": "8",
                  "name": "price",
                  "type": "double"
                },
                {
                  "key": "9",
                  "name": "_etag",
                  "type": "string"
                }
              ],
              "truncated": false
            },
            "isSummary": false,
            "language": "scala",
            "wranglerEntryContext": {
              "dataframeType": "pyspark"
            }
          },
          "persist_state": {
            "view": {
              "type": "details",
              "tableOptions": {},
              "chartOptions": {
                "chartType": "bar",
                "aggregationType": "sum",
                "categoryFieldKeys": [
                  "0"
                ],
                "seriesFieldKeys": [
                  "1"
                ],
                "isStacked": false
              }
            }
          }
        },
        "97849321-be52-4459-8f62-6ed4431f6f85": {
          "type": "Synapse.DataFrame",
          "sync_state": {
            "table": {
              "rows": [
                {
                  "0": "123",
                  "1": {
                    "customername": "Christy Zhu",
                    "customeremail": "christy12@adventure-works.com"
                  }
                },
                {
                  "0": "124",
                  "1": {
                    "customername": "Julio Ruiz",
                    "customeremail": "julio1@adventure-works.com"
                  }
                },
                {
                  "0": "125",
                  "1": {
                    "customername": "Emma Brown",
                    "customeremail": "emma3@adventure-works.com"
                  }
                },
                {
                  "0": "126",
                  "1": {
                    "customername": "Samir Nadoy",
                    "customeremail": "samir1@adventure-works.com"
                  }
                }
              ],
              "schema": [
                {
                  "key": "0",
                  "name": "customerid",
                  "type": "bigint"
                },
                {
                  "key": "1",
                  "name": "customerdetails",
                  "type": "StructType(StructField(customername,StringType,true),StructField(customeremail,StringType,true))"
                }
              ],
              "truncated": false
            },
            "isSummary": false,
            "language": "scala",
            "wranglerEntryContext": {
              "candidateVariableNames": [
                "customer_df"
              ],
              "dataframeType": "pyspark"
            }
          },
          "persist_state": {
            "view": {
              "type": "details",
              "tableOptions": {},
              "chartOptions": {
                "chartType": "bar",
                "aggregationType": "sum",
                "categoryFieldKeys": [],
                "seriesFieldKeys": [
                  "0"
                ],
                "isStacked": false
              }
            }
          }
        },
        "a6387bf7-5a6a-458e-8c5e-0dd040f2db0a": {
          "type": "Synapse.DataFrame",
          "sync_state": {
            "table": {
              "rows": [
                {
                  "0": "123",
                  "1": "Christy Zhu",
                  "2": "christy12@adventure-works.com"
                },
                {
                  "0": "124",
                  "1": "Julio Ruiz",
                  "2": "julio1@adventure-works.com"
                },
                {
                  "0": "125",
                  "1": "Emma Brown",
                  "2": "emma3@adventure-works.com"
                },
                {
                  "0": "126",
                  "1": "Samir Nadoy",
                  "2": "samir1@adventure-works.com"
                }
              ],
              "schema": [
                {
                  "key": "0",
                  "name": "customerid",
                  "type": "bigint"
                },
                {
                  "key": "1",
                  "name": "customername",
                  "type": "string"
                },
                {
                  "key": "2",
                  "name": "customeremail",
                  "type": "string"
                }
              ],
              "truncated": false
            },
            "isSummary": false,
            "language": "scala",
            "wranglerEntryContext": {
              "candidateVariableNames": [
                "customerdetails_df"
              ],
              "dataframeType": "pyspark"
            }
          },
          "persist_state": {
            "view": {
              "type": "details",
              "tableOptions": {},
              "chartOptions": {
                "chartType": "bar",
                "aggregationType": "sum",
                "categoryFieldKeys": [
                  "1"
                ],
                "seriesFieldKeys": [
                  "0"
                ],
                "isStacked": false
              }
            }
          }
        }
      }
    }
  },
  "nbformat": 4,
  "nbformat_minor": 2
}